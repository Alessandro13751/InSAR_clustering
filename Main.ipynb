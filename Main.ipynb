{
  "nbformat": 4,
  "nbformat_minor": 0,
  "metadata": {
    "colab": {
      "provenance": [],
      "include_colab_link": true
    },
    "kernelspec": {
      "name": "python3",
      "display_name": "Python 3"
    },
    "language_info": {
      "name": "python"
    }
  },
  "cells": [
    {
      "cell_type": "markdown",
      "metadata": {
        "id": "view-in-github",
        "colab_type": "text"
      },
      "source": [
        "<a href=\"https://colab.research.google.com/github/Alessandro13751/InSAR_clustering/blob/master/Main.ipynb\" target=\"_parent\"><img src=\"https://colab.research.google.com/assets/colab-badge.svg\" alt=\"Open In Colab\"/></a>"
      ]
    },
    {
      "cell_type": "code",
      "execution_count": 1,
      "metadata": {
        "id": "tMDBBXm5KQGR"
      },
      "outputs": [],
      "source": [
        "import ee\n",
        "import geemap"
      ]
    },
    {
      "cell_type": "code",
      "source": [
        "ee.Authenticate()\n",
        "#ee.Initialize(project=\"Replace your google earth engine project name\", opt_url='https://earthengine-highvolume.googleapis.com')\n",
        "ee.Initialize(project='alessandro9188')"
      ],
      "metadata": {
        "colab": {
          "base_uri": "https://localhost:8080/",
          "height": 17
        },
        "id": "OzGNNi7RKZWn",
        "outputId": "18ab57e4-aef6-4e99-b4e3-11397f149a32"
      },
      "execution_count": 2,
      "outputs": [
        {
          "output_type": "display_data",
          "data": {
            "text/plain": [
              "<IPython.core.display.HTML object>"
            ],
            "text/html": [
              "\n",
              "            <style>\n",
              "                .geemap-dark {\n",
              "                    --jp-widgets-color: white;\n",
              "                    --jp-widgets-label-color: white;\n",
              "                    --jp-ui-font-color1: white;\n",
              "                    --jp-layout-color2: #454545;\n",
              "                    background-color: #383838;\n",
              "                }\n",
              "\n",
              "                .geemap-dark .jupyter-button {\n",
              "                    --jp-layout-color3: #383838;\n",
              "                }\n",
              "\n",
              "                .geemap-colab {\n",
              "                    background-color: var(--colab-primary-surface-color, white);\n",
              "                }\n",
              "\n",
              "                .geemap-colab .jupyter-button {\n",
              "                    --jp-layout-color3: var(--colab-primary-surface-color, white);\n",
              "                }\n",
              "            </style>\n",
              "            "
            ]
          },
          "metadata": {}
        }
      ]
    },
    {
      "cell_type": "code",
      "source": [
        "country_name ='Indonesia'                           # Country's name            # str\n",
        "time_start = \"2015-01-01\"                            # Start data YYYY-MM-DD     # str\n",
        "time_end =  \"2015-12-30\"                              # End data YYYY-MM-DD       # str"
      ],
      "metadata": {
        "id": "hlXiL7cjKztU",
        "colab": {
          "base_uri": "https://localhost:8080/",
          "height": 17
        },
        "outputId": "50579868-e34e-48bc-b8b4-1a7e2b21ca04"
      },
      "execution_count": null,
      "outputs": [
        {
          "output_type": "display_data",
          "data": {
            "text/plain": [
              "<IPython.core.display.HTML object>"
            ],
            "text/html": [
              "\n",
              "            <style>\n",
              "                .geemap-dark {\n",
              "                    --jp-widgets-color: white;\n",
              "                    --jp-widgets-label-color: white;\n",
              "                    --jp-ui-font-color1: white;\n",
              "                    --jp-layout-color2: #454545;\n",
              "                    background-color: #383838;\n",
              "                }\n",
              "\n",
              "                .geemap-dark .jupyter-button {\n",
              "                    --jp-layout-color3: #383838;\n",
              "                }\n",
              "\n",
              "                .geemap-colab {\n",
              "                    background-color: var(--colab-primary-surface-color, white);\n",
              "                }\n",
              "\n",
              "                .geemap-colab .jupyter-button {\n",
              "                    --jp-layout-color3: var(--colab-primary-surface-color, white);\n",
              "                }\n",
              "            </style>\n",
              "            "
            ]
          },
          "metadata": {}
        }
      ]
    },
    {
      "cell_type": "code",
      "source": [
        "def convert_to_monthly_sum(collection, start, end):\n",
        "    start_date = ee.Date(start)\n",
        "    end_date = ee.Date(end)\n",
        "\n",
        "    adjusted_end = ee.Algorithms.If(\n",
        "        ee.Number(end_date.get('day')).eq(1),\n",
        "        end_date.advance(-1, 'day'),\n",
        "        end_date\n",
        "    )\n",
        "    end_date = ee.Date(adjusted_end)\n",
        "\n",
        "    months = ee.List.sequence(0, end_date.difference(start_date, 'month'))\n",
        "\n",
        "    def map_month(m):\n",
        "        m = ee.Number(m)\n",
        "        start_m = start_date.advance(m, 'month')\n",
        "        end_m = start_m.advance(1, 'month')\n",
        "\n",
        "        filtered = collection.filterDate(start_m, end_m)\n",
        "        monthly_image = filtered.sum() \\\n",
        "            .set('system:time_start', start_m.millis())\n",
        "\n",
        "        first_image = ee.Image(filtered.first())\n",
        "        monthly_image = monthly_image.copyProperties(first_image, first_image.propertyNames())\n",
        "\n",
        "        return monthly_image\n",
        "\n",
        "    return ee.ImageCollection.fromImages(months.map(map_month))\n",
        "\n",
        "\n",
        "def convert_to_monthly_average(collection, start, end):\n",
        "    start_date = ee.Date(start)\n",
        "    end_date = ee.Date(end)\n",
        "\n",
        "    adjusted_end = ee.Algorithms.If(\n",
        "        ee.Number(end_date.get('day')).eq(1),\n",
        "        end_date.advance(-1, 'day'),\n",
        "        end_date\n",
        "    )\n",
        "    end_date = ee.Date(adjusted_end)\n",
        "\n",
        "    months = ee.List.sequence(0, end_date.difference(start_date, 'month'))\n",
        "\n",
        "    def map_month(m):\n",
        "        m = ee.Number(m)\n",
        "        start_m = start_date.advance(m, 'month')\n",
        "        end_m = start_m.advance(1, 'month')\n",
        "\n",
        "        filtered = collection.filterDate(start_m, end_m)\n",
        "        monthly_image = filtered.mean() \\\n",
        "            .set('system:time_start', start_m.millis())\n",
        "\n",
        "        first_image = ee.Image(filtered.first())\n",
        "        monthly_image = monthly_image.copyProperties(first_image, first_image.propertyNames())\n",
        "\n",
        "        return monthly_image\n",
        "\n",
        "    return ee.ImageCollection.fromImages(months.map(map_month))"
      ],
      "metadata": {
        "colab": {
          "base_uri": "https://localhost:8080/",
          "height": 17
        },
        "id": "LvVbyUA4LqhW",
        "outputId": "a76b5d24-37ec-4bcd-e6cd-dc0dcfda93a8"
      },
      "execution_count": null,
      "outputs": [
        {
          "output_type": "display_data",
          "data": {
            "text/plain": [
              "<IPython.core.display.HTML object>"
            ],
            "text/html": [
              "\n",
              "            <style>\n",
              "                .geemap-dark {\n",
              "                    --jp-widgets-color: white;\n",
              "                    --jp-widgets-label-color: white;\n",
              "                    --jp-ui-font-color1: white;\n",
              "                    --jp-layout-color2: #454545;\n",
              "                    background-color: #383838;\n",
              "                }\n",
              "\n",
              "                .geemap-dark .jupyter-button {\n",
              "                    --jp-layout-color3: #383838;\n",
              "                }\n",
              "\n",
              "                .geemap-colab {\n",
              "                    background-color: var(--colab-primary-surface-color, white);\n",
              "                }\n",
              "\n",
              "                .geemap-colab .jupyter-button {\n",
              "                    --jp-layout-color3: var(--colab-primary-surface-color, white);\n",
              "                }\n",
              "            </style>\n",
              "            "
            ]
          },
          "metadata": {}
        }
      ]
    },
    {
      "cell_type": "code",
      "source": [
        "country = ee.FeatureCollection('USDOS/LSIB_SIMPLE/2017') \\\n",
        "    .filter(ee.Filter.eq('country_na', country_name))\n",
        "roi=country.geometry()"
      ],
      "metadata": {
        "id": "LtQLMLvxUKR1",
        "outputId": "21b26728-b5e7-43b7-da39-e88fa66c7e2b",
        "colab": {
          "base_uri": "https://localhost:8080/",
          "height": 17
        }
      },
      "execution_count": null,
      "outputs": [
        {
          "output_type": "display_data",
          "data": {
            "text/plain": [
              "<IPython.core.display.HTML object>"
            ],
            "text/html": [
              "\n",
              "            <style>\n",
              "                .geemap-dark {\n",
              "                    --jp-widgets-color: white;\n",
              "                    --jp-widgets-label-color: white;\n",
              "                    --jp-ui-font-color1: white;\n",
              "                    --jp-layout-color2: #454545;\n",
              "                    background-color: #383838;\n",
              "                }\n",
              "\n",
              "                .geemap-dark .jupyter-button {\n",
              "                    --jp-layout-color3: #383838;\n",
              "                }\n",
              "\n",
              "                .geemap-colab {\n",
              "                    background-color: var(--colab-primary-surface-color, white);\n",
              "                }\n",
              "\n",
              "                .geemap-colab .jupyter-button {\n",
              "                    --jp-layout-color3: var(--colab-primary-surface-color, white);\n",
              "                }\n",
              "            </style>\n",
              "            "
            ]
          },
          "metadata": {}
        }
      ]
    },
    {
      "cell_type": "code",
      "source": [
        "grace_55km = (\n",
        "    ee.ImageCollection(\"NASA/GRACE/MASS_GRIDS_V04/MASCON_CRI\")\n",
        "    .select('lwe_thickness')\n",
        "    .filterDate(time_start, time_end)\n",
        "    .map(lambda img: img.toInt()\n",
        "         .copyProperties(img, img.propertyNames())\n",
        "         .set('date', img.date().format('YYYY-MM')))\n",
        ")"
      ],
      "metadata": {
        "id": "67CUfTEDL0Ww",
        "colab": {
          "base_uri": "https://localhost:8080/",
          "height": 17
        },
        "outputId": "bda1d1cc-ec7b-4b6b-e1f3-2301684d85cf"
      },
      "execution_count": null,
      "outputs": [
        {
          "output_type": "display_data",
          "data": {
            "text/plain": [
              "<IPython.core.display.HTML object>"
            ],
            "text/html": [
              "\n",
              "            <style>\n",
              "                .geemap-dark {\n",
              "                    --jp-widgets-color: white;\n",
              "                    --jp-widgets-label-color: white;\n",
              "                    --jp-ui-font-color1: white;\n",
              "                    --jp-layout-color2: #454545;\n",
              "                    background-color: #383838;\n",
              "                }\n",
              "\n",
              "                .geemap-dark .jupyter-button {\n",
              "                    --jp-layout-color3: #383838;\n",
              "                }\n",
              "\n",
              "                .geemap-colab {\n",
              "                    background-color: var(--colab-primary-surface-color, white);\n",
              "                }\n",
              "\n",
              "                .geemap-colab .jupyter-button {\n",
              "                    --jp-layout-color3: var(--colab-primary-surface-color, white);\n",
              "                }\n",
              "            </style>\n",
              "            "
            ]
          },
          "metadata": {}
        }
      ]
    },
    {
      "cell_type": "code",
      "source": [
        "precipitation = (\n",
        "    ee.ImageCollection(\"NASA/GPM_L3/IMERG_MONTHLY_V06\")\n",
        "    .select(\"precipitation\")\n",
        "    .filterDate(time_start, time_end)\n",
        "    .map(lambda img: img.toInt()\n",
        "         .copyProperties(img, img.propertyNames())\n",
        "         .set('date', img.date().format('YYYY-MM')))\n",
        ")\n",
        "\n",
        "precipitation_monthly = convert_to_monthly_sum(precipitation, time_start, time_end)"
      ],
      "metadata": {
        "id": "oeWDj0UiMzBO",
        "colab": {
          "base_uri": "https://localhost:8080/",
          "height": 17
        },
        "outputId": "5fd2ffde-8f00-4a31-f1a6-0f40c1f188e1"
      },
      "execution_count": null,
      "outputs": [
        {
          "output_type": "display_data",
          "data": {
            "text/plain": [
              "<IPython.core.display.HTML object>"
            ],
            "text/html": [
              "\n",
              "            <style>\n",
              "                .geemap-dark {\n",
              "                    --jp-widgets-color: white;\n",
              "                    --jp-widgets-label-color: white;\n",
              "                    --jp-ui-font-color1: white;\n",
              "                    --jp-layout-color2: #454545;\n",
              "                    background-color: #383838;\n",
              "                }\n",
              "\n",
              "                .geemap-dark .jupyter-button {\n",
              "                    --jp-layout-color3: #383838;\n",
              "                }\n",
              "\n",
              "                .geemap-colab {\n",
              "                    background-color: var(--colab-primary-surface-color, white);\n",
              "                }\n",
              "\n",
              "                .geemap-colab .jupyter-button {\n",
              "                    --jp-layout-color3: var(--colab-primary-surface-color, white);\n",
              "                }\n",
              "            </style>\n",
              "            "
            ]
          },
          "metadata": {}
        }
      ]
    },
    {
      "cell_type": "code",
      "source": [
        "air_temperature = (\n",
        "    ee.ImageCollection(\"ECMWF/ERA5_LAND/MONTHLY_AGGR\")\n",
        "    .select(\"temperature_2m\")\n",
        "    .filterDate(time_start, time_end)\n",
        "    .map(lambda img: img.toInt()\n",
        "         .copyProperties(img, img.propertyNames())\n",
        "         .set('date', img.date().format('YYYY-MM')))\n",
        ")\n",
        "\n",
        "air_temperature_monthly = convert_to_monthly_average(air_temperature, time_start, time_end)"
      ],
      "metadata": {
        "id": "6fnZqydjNo_z",
        "colab": {
          "base_uri": "https://localhost:8080/",
          "height": 17
        },
        "outputId": "e6879882-d5d6-416d-bbd9-2a9d268b56e7"
      },
      "execution_count": null,
      "outputs": [
        {
          "output_type": "display_data",
          "data": {
            "text/plain": [
              "<IPython.core.display.HTML object>"
            ],
            "text/html": [
              "\n",
              "            <style>\n",
              "                .geemap-dark {\n",
              "                    --jp-widgets-color: white;\n",
              "                    --jp-widgets-label-color: white;\n",
              "                    --jp-ui-font-color1: white;\n",
              "                    --jp-layout-color2: #454545;\n",
              "                    background-color: #383838;\n",
              "                }\n",
              "\n",
              "                .geemap-dark .jupyter-button {\n",
              "                    --jp-layout-color3: #383838;\n",
              "                }\n",
              "\n",
              "                .geemap-colab {\n",
              "                    background-color: var(--colab-primary-surface-color, white);\n",
              "                }\n",
              "\n",
              "                .geemap-colab .jupyter-button {\n",
              "                    --jp-layout-color3: var(--colab-primary-surface-color, white);\n",
              "                }\n",
              "            </style>\n",
              "            "
            ]
          },
          "metadata": {}
        }
      ]
    },
    {
      "cell_type": "code",
      "source": [
        "land_temperature_monthly = (\n",
        "    ee.ImageCollection(\"Oxford/MAP/LST_Day_5km_Monthly\")\n",
        "    .select('Mean')\n",
        "    .filterDate(time_start, time_end)\n",
        "    .map(lambda img: img.toInt()\n",
        "         .copyProperties(img, img.propertyNames())\n",
        "         .set('date', img.date().format('YYYY-MM')))\n",
        ")"
      ],
      "metadata": {
        "id": "GPPBw2O6OBl0",
        "colab": {
          "base_uri": "https://localhost:8080/",
          "height": 17
        },
        "outputId": "1e5b8938-5a34-48bf-8472-edd086e0498c"
      },
      "execution_count": null,
      "outputs": [
        {
          "output_type": "display_data",
          "data": {
            "text/plain": [
              "<IPython.core.display.HTML object>"
            ],
            "text/html": [
              "\n",
              "            <style>\n",
              "                .geemap-dark {\n",
              "                    --jp-widgets-color: white;\n",
              "                    --jp-widgets-label-color: white;\n",
              "                    --jp-ui-font-color1: white;\n",
              "                    --jp-layout-color2: #454545;\n",
              "                    background-color: #383838;\n",
              "                }\n",
              "\n",
              "                .geemap-dark .jupyter-button {\n",
              "                    --jp-layout-color3: #383838;\n",
              "                }\n",
              "\n",
              "                .geemap-colab {\n",
              "                    background-color: var(--colab-primary-surface-color, white);\n",
              "                }\n",
              "\n",
              "                .geemap-colab .jupyter-button {\n",
              "                    --jp-layout-color3: var(--colab-primary-surface-color, white);\n",
              "                }\n",
              "            </style>\n",
              "            "
            ]
          },
          "metadata": {}
        }
      ]
    },
    {
      "cell_type": "code",
      "source": [
        "humidity = (\n",
        "    ee.ImageCollection(\"UCSB-CHG/CHIRTS/DAILY\")\n",
        "    .select(\"relative_humidity\")\n",
        "    .filterDate(time_start, time_end)\n",
        "    .map(lambda img: img.toInt()\n",
        "         .copyProperties(img, img.propertyNames())\n",
        "         .set('date', img.date().format('YYYY-MM')))\n",
        ")\n",
        "\n",
        "humidity_monthly = convert_to_monthly_average(humidity, time_start, time_end)"
      ],
      "metadata": {
        "id": "Aizq0cGeOh8T",
        "colab": {
          "base_uri": "https://localhost:8080/",
          "height": 17
        },
        "outputId": "a767f7e2-b02a-4d29-ecfe-e0823a7afbaf"
      },
      "execution_count": null,
      "outputs": [
        {
          "output_type": "display_data",
          "data": {
            "text/plain": [
              "<IPython.core.display.HTML object>"
            ],
            "text/html": [
              "\n",
              "            <style>\n",
              "                .geemap-dark {\n",
              "                    --jp-widgets-color: white;\n",
              "                    --jp-widgets-label-color: white;\n",
              "                    --jp-ui-font-color1: white;\n",
              "                    --jp-layout-color2: #454545;\n",
              "                    background-color: #383838;\n",
              "                }\n",
              "\n",
              "                .geemap-dark .jupyter-button {\n",
              "                    --jp-layout-color3: #383838;\n",
              "                }\n",
              "\n",
              "                .geemap-colab {\n",
              "                    background-color: var(--colab-primary-surface-color, white);\n",
              "                }\n",
              "\n",
              "                .geemap-colab .jupyter-button {\n",
              "                    --jp-layout-color3: var(--colab-primary-surface-color, white);\n",
              "                }\n",
              "            </style>\n",
              "            "
            ]
          },
          "metadata": {}
        }
      ]
    },
    {
      "cell_type": "code",
      "source": [
        "evaporation = (\n",
        "    ee.ImageCollection(\"ECMWF/ERA5_LAND/DAILY_AGGR\")\n",
        "    .select('potential_evaporation_sum')\n",
        "    .filterDate(time_start, time_end)\n",
        "    .map(lambda img: img.toInt()\n",
        "         .copyProperties(img, img.propertyNames())\n",
        "         .set('date', img.date().format('YYYY-MM')))\n",
        ")\n",
        "\n",
        "evaporation_monthly = convert_to_monthly_average(evaporation, time_start, time_end)"
      ],
      "metadata": {
        "id": "_6biNK4BO2ir",
        "colab": {
          "base_uri": "https://localhost:8080/",
          "height": 17
        },
        "outputId": "2b4cf46a-dc7d-4027-dab2-eb80e2834b04"
      },
      "execution_count": null,
      "outputs": [
        {
          "output_type": "display_data",
          "data": {
            "text/plain": [
              "<IPython.core.display.HTML object>"
            ],
            "text/html": [
              "\n",
              "            <style>\n",
              "                .geemap-dark {\n",
              "                    --jp-widgets-color: white;\n",
              "                    --jp-widgets-label-color: white;\n",
              "                    --jp-ui-font-color1: white;\n",
              "                    --jp-layout-color2: #454545;\n",
              "                    background-color: #383838;\n",
              "                }\n",
              "\n",
              "                .geemap-dark .jupyter-button {\n",
              "                    --jp-layout-color3: #383838;\n",
              "                }\n",
              "\n",
              "                .geemap-colab {\n",
              "                    background-color: var(--colab-primary-surface-color, white);\n",
              "                }\n",
              "\n",
              "                .geemap-colab .jupyter-button {\n",
              "                    --jp-layout-color3: var(--colab-primary-surface-color, white);\n",
              "                }\n",
              "            </style>\n",
              "            "
            ]
          },
          "metadata": {}
        }
      ]
    },
    {
      "cell_type": "code",
      "source": [
        "runoff = (\n",
        "    ee.ImageCollection(\"ECMWF/ERA5_LAND/DAILY_AGGR\")\n",
        "    .select('runoff_sum')\n",
        "    .filterDate(time_start, time_end)\n",
        "    .map(lambda img: img.toInt()\n",
        "         .copyProperties(img, img.propertyNames())\n",
        "         .set('date', img.date().format('YYYY-MM')))\n",
        ")\n",
        "\n",
        "runoff_monthly = convert_to_monthly_sum(runoff, time_start, time_end)"
      ],
      "metadata": {
        "id": "Ex0oYMAKPIox",
        "colab": {
          "base_uri": "https://localhost:8080/",
          "height": 17
        },
        "outputId": "538d5b0f-2a55-4560-8e78-a088acc16cb5"
      },
      "execution_count": null,
      "outputs": [
        {
          "output_type": "display_data",
          "data": {
            "text/plain": [
              "<IPython.core.display.HTML object>"
            ],
            "text/html": [
              "\n",
              "            <style>\n",
              "                .geemap-dark {\n",
              "                    --jp-widgets-color: white;\n",
              "                    --jp-widgets-label-color: white;\n",
              "                    --jp-ui-font-color1: white;\n",
              "                    --jp-layout-color2: #454545;\n",
              "                    background-color: #383838;\n",
              "                }\n",
              "\n",
              "                .geemap-dark .jupyter-button {\n",
              "                    --jp-layout-color3: #383838;\n",
              "                }\n",
              "\n",
              "                .geemap-colab {\n",
              "                    background-color: var(--colab-primary-surface-color, white);\n",
              "                }\n",
              "\n",
              "                .geemap-colab .jupyter-button {\n",
              "                    --jp-layout-color3: var(--colab-primary-surface-color, white);\n",
              "                }\n",
              "            </style>\n",
              "            "
            ]
          },
          "metadata": {}
        }
      ]
    },
    {
      "cell_type": "code",
      "source": [
        "ndvi = (\n",
        "    ee.ImageCollection(\"MODIS/061/MOD13A2\")\n",
        "    .select('NDVI')\n",
        "    .filterDate(time_start, time_end)\n",
        "    .map(lambda img: img.toInt()\n",
        "         .copyProperties(img, img.propertyNames())\n",
        "         .set('date', img.date().format('YYYY-MM')))\n",
        ")\n",
        "\n",
        "ndvi_monthly = convert_to_monthly_average(ndvi, time_start, time_end)"
      ],
      "metadata": {
        "id": "ijURdjBcPc4a",
        "colab": {
          "base_uri": "https://localhost:8080/",
          "height": 17
        },
        "outputId": "1d77b666-4413-4adb-f2ba-49f0b5458610"
      },
      "execution_count": null,
      "outputs": [
        {
          "output_type": "display_data",
          "data": {
            "text/plain": [
              "<IPython.core.display.HTML object>"
            ],
            "text/html": [
              "\n",
              "            <style>\n",
              "                .geemap-dark {\n",
              "                    --jp-widgets-color: white;\n",
              "                    --jp-widgets-label-color: white;\n",
              "                    --jp-ui-font-color1: white;\n",
              "                    --jp-layout-color2: #454545;\n",
              "                    background-color: #383838;\n",
              "                }\n",
              "\n",
              "                .geemap-dark .jupyter-button {\n",
              "                    --jp-layout-color3: #383838;\n",
              "                }\n",
              "\n",
              "                .geemap-colab {\n",
              "                    background-color: var(--colab-primary-surface-color, white);\n",
              "                }\n",
              "\n",
              "                .geemap-colab .jupyter-button {\n",
              "                    --jp-layout-color3: var(--colab-primary-surface-color, white);\n",
              "                }\n",
              "            </style>\n",
              "            "
            ]
          },
          "metadata": {}
        }
      ]
    },
    {
      "cell_type": "code",
      "source": [
        "def join_collections(primary, secondary, band_name):\n",
        "    join = ee.Join.inner()\n",
        "    filter = ee.Filter.equals(leftField='date', rightField='date')\n",
        "    joined = join.apply(primary, secondary, filter)\n",
        "\n",
        "    return ee.ImageCollection(joined.map(lambda feature:\n",
        "        ee.Image(feature.get('primary')).addBands(\n",
        "            ee.Image(feature.get('secondary')).rename(band_name)\n",
        "        )\n",
        "    ))\n",
        "\n",
        "\n",
        "joined1 = join_collections(grace_55km, precipitation_monthly, 'Precipitation')\n",
        "joined2 = join_collections(joined1, air_temperature_monthly, 'Air temperature')\n",
        "joined3 = join_collections(joined2, land_temperature_monthly, 'Land Surface temperature')\n",
        "joined4 = join_collections(joined3, humidity_monthly, 'Humidity')\n",
        "joined5 = join_collections(joined4, evaporation_monthly, 'Evaporation')\n",
        "joined6 = join_collections(joined5, runoff_monthly, 'Runoff')\n",
        "data_collection = join_collections(joined6, ndvi_monthly, 'NDVI')"
      ],
      "metadata": {
        "id": "RcZBV5EWPuAq",
        "colab": {
          "base_uri": "https://localhost:8080/",
          "height": 17
        },
        "outputId": "e084ee78-0b15-40c9-b3c5-1f9e9bb226da"
      },
      "execution_count": null,
      "outputs": [
        {
          "output_type": "display_data",
          "data": {
            "text/plain": [
              "<IPython.core.display.HTML object>"
            ],
            "text/html": [
              "\n",
              "            <style>\n",
              "                .geemap-dark {\n",
              "                    --jp-widgets-color: white;\n",
              "                    --jp-widgets-label-color: white;\n",
              "                    --jp-ui-font-color1: white;\n",
              "                    --jp-layout-color2: #454545;\n",
              "                    background-color: #383838;\n",
              "                }\n",
              "\n",
              "                .geemap-dark .jupyter-button {\n",
              "                    --jp-layout-color3: #383838;\n",
              "                }\n",
              "\n",
              "                .geemap-colab {\n",
              "                    background-color: var(--colab-primary-surface-color, white);\n",
              "                }\n",
              "\n",
              "                .geemap-colab .jupyter-button {\n",
              "                    --jp-layout-color3: var(--colab-primary-surface-color, white);\n",
              "                }\n",
              "            </style>\n",
              "            "
            ]
          },
          "metadata": {}
        }
      ]
    },
    {
      "cell_type": "code",
      "source": [
        "def classify_grace10km(img):\n",
        "    training = img.stratifiedSample(\n",
        "        numPoints=100,\n",
        "        classBand='lwe_thickness',\n",
        "        region=roi,\n",
        "        scale=10000\n",
        "    )\n",
        "\n",
        "    model = ee.Classifier.smileRandomForest(80).train(\n",
        "        features=training,\n",
        "        classProperty='lwe_thickness',\n",
        "        inputProperties=img.bandNames()\n",
        "    ).setOutputMode('REGRESSION')\n",
        "\n",
        "    bands = img.bandNames().remove('lwe_thickness')\n",
        "\n",
        "    result = img.select(bands).classify(model).rename('grace10km').toFloat()\n",
        "\n",
        "    return result.copyProperties(img, img.propertyNames())\n",
        "\n",
        "grace10km = data_collection.map(classify_grace10km)"
      ],
      "metadata": {
        "id": "a85ZVujEQF0m",
        "colab": {
          "base_uri": "https://localhost:8080/",
          "height": 17
        },
        "outputId": "3e6532b2-d64c-4f83-af44-861062db346b"
      },
      "execution_count": null,
      "outputs": [
        {
          "output_type": "display_data",
          "data": {
            "text/plain": [
              "<IPython.core.display.HTML object>"
            ],
            "text/html": [
              "\n",
              "            <style>\n",
              "                .geemap-dark {\n",
              "                    --jp-widgets-color: white;\n",
              "                    --jp-widgets-label-color: white;\n",
              "                    --jp-ui-font-color1: white;\n",
              "                    --jp-layout-color2: #454545;\n",
              "                    background-color: #383838;\n",
              "                }\n",
              "\n",
              "                .geemap-dark .jupyter-button {\n",
              "                    --jp-layout-color3: #383838;\n",
              "                }\n",
              "\n",
              "                .geemap-colab {\n",
              "                    background-color: var(--colab-primary-surface-color, white);\n",
              "                }\n",
              "\n",
              "                .geemap-colab .jupyter-button {\n",
              "                    --jp-layout-color3: var(--colab-primary-surface-color, white);\n",
              "                }\n",
              "            </style>\n",
              "            "
            ]
          },
          "metadata": {}
        }
      ]
    },
    {
      "cell_type": "code",
      "source": [
        "# Create a new map with a satellite basemap\n",
        "Map = geemap.Map(basemap=\"SATELLITE\")\n",
        "\n",
        "# -------------------------------\n",
        "# Loop over the 55 km GRACE collection\n",
        "# -------------------------------\n",
        "count_55km = grace_55km.size().getInfo()\n",
        "image_list_55km = grace_55km.toList(count_55km)\n",
        "\n",
        "for i in range(count_55km):\n",
        "    img = ee.Image(image_list_55km.get(i)).clip(roi)\n",
        "    date = img.get('date').getInfo()\n",
        "\n",
        "    stats = img.reduceRegion(\n",
        "        reducer=ee.Reducer.minMax(),\n",
        "        geometry=roi,\n",
        "        bestEffort=True\n",
        "    ).getInfo()\n",
        "\n",
        "    vis_55km = {\n",
        "        'min': stats['lwe_thickness_min'],\n",
        "        'max': stats['lwe_thickness_max'],\n",
        "        # 5‐color diverging palette: dark blue → light blue → white → light red → dark red\n",
        "        'palette': [\n",
        "            '#2166ac',  # dark blue (strong positive change)\n",
        "            '#67a9cf',  # light blue (moderate positive)\n",
        "            '#f7f7f7',  # white     (no change)\n",
        "            '#ef8a62',  # light red (moderate negative)\n",
        "            '#b2182b'   # dark red  (strong negative change)\n",
        "        ]\n",
        "    }\n",
        "\n",
        "    Map.addLayer(img, vis_55km, f\"Grace 55km {date}\")\n",
        "\n",
        "# -------------------------------\n",
        "# Loop over the 10 km GRACE collection\n",
        "# -------------------------------\n",
        "count_10km = grace10km.size().getInfo()\n",
        "image_list_10km = grace10km.toList(count_10km)\n",
        "\n",
        "for i in range(count_10km):\n",
        "    img = ee.Image(image_list_10km.get(i)).clip(roi)\n",
        "    date = img.get('date').getInfo()\n",
        "\n",
        "    stats = img.reduceRegion(\n",
        "        reducer=ee.Reducer.minMax(),\n",
        "        geometry=roi,\n",
        "        bestEffort=True\n",
        "    ).getInfo()\n",
        "\n",
        "    vis_10km = {\n",
        "        'min': stats['grace10km_min'],\n",
        "        'max': stats['grace10km_max'],\n",
        "        # Same 5‐color diverging palette for consistency\n",
        "        'palette': [\n",
        "            '#2166ac',  # dark blue (strong positive change)\n",
        "            '#67a9cf',  # light blue (moderate positive)\n",
        "            '#f7f7f7',  # white     (no change)\n",
        "            '#ef8a62',  # light red (moderate negative)\n",
        "            '#b2182b'   # dark red  (strong negative change)\n",
        "        ]\n",
        "    }\n",
        "\n",
        "    Map.addLayer(img, vis_10km, f\"Grace 10km {date}\")\n",
        "\n",
        "# Center the map on the region of interest at zoom level 5\n",
        "Map.centerObject(roi, 5)\n",
        "\n",
        "# Display the map\n",
        "Map\n"
      ],
      "metadata": {
        "id": "wNTQVN2hLlps"
      },
      "execution_count": null,
      "outputs": []
    },
    {
      "cell_type": "code",
      "source": [],
      "metadata": {
        "id": "vmB5U8DfCCBa"
      },
      "execution_count": null,
      "outputs": []
    }
  ]
}